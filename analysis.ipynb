{
 "cells": [
  {
   "cell_type": "code",
   "execution_count": null,
   "metadata": {
    "collapsed": true
   },
   "outputs": [],
   "source": [
    "import geojson\n",
    "import matplotlib.pyplot as plt\n",
    "import numpy as np\n",
    "import pandas as pd"
   ]
  },
  {
   "cell_type": "code",
   "execution_count": null,
   "metadata": {
    "collapsed": true
   },
   "outputs": [],
   "source": [
    "with open(\"data/milano-grid.geojson\") as json_file:\n",
    "    grid_json = geojson.load(json_file)"
   ]
  },
  {
   "cell_type": "code",
   "execution_count": null,
   "metadata": {
    "collapsed": true
   },
   "outputs": [],
   "source": [
    "with open(\"data/Italian_provinces.geojson\") as json_file:\n",
    "    provinces_json = geojson.load(json_file)"
   ]
  },
  {
   "cell_type": "code",
   "execution_count": null,
   "metadata": {
    "collapsed": true
   },
   "outputs": [],
   "source": [
    "from functools import reduce\n",
    "start_day = 1\n",
    "end_day   = 1 + 1"
   ]
  },
  {
   "cell_type": "code",
   "execution_count": null,
   "metadata": {
    "collapsed": true
   },
   "outputs": [],
   "source": [
    "# Milan to provinces\n",
    "m2p_df = []\n",
    "for day in range(start_day, end_day):\n",
    "    m2p_df.append(pd.read_csv(\"data/mi-to-provinces-2013-11-{:02}.csv\".format(day), engine =\"python\", index_col=0))\n",
    "    \n",
    "m2p_df = pd.concat(m2p_df)"
   ]
  },
  {
   "cell_type": "code",
   "execution_count": null,
   "metadata": {},
   "outputs": [],
   "source": [
    "time_indices = pd.concat([pd.DataFrame(np.repeat(m2p_df.index.drop_duplicates().values, 10000), columns=['datetime'])]).reset_index(drop=True)\n",
    "cell_indices = pd.concat([pd.DataFrame(np.arange(10000), columns=['Cell1D'])] * 24).reset_index(drop=True)"
   ]
  },
  {
   "cell_type": "code",
   "execution_count": null,
   "metadata": {},
   "outputs": [],
   "source": [
    "new_m2p_df = pd.concat([time_indices, cell_indices], axis=1)\n",
    "new_m2p_df = new_m2p_df.set_index('datetime')\n",
    "\n",
    "# for index, row in m2p_df.iterrows():\n",
    "#     new_m2p_df.loc[index].loc['Cell1D']\n",
    "\n",
    "new_m2p_df.loc[index].loc['Cell1D']"
   ]
  },
  {
   "cell_type": "code",
   "execution_count": null,
   "metadata": {
    "collapsed": true
   },
   "outputs": [],
   "source": [
    "# Milan to countries\n",
    "m2c_df = []\n",
    "for day in range(start_day, end_day):\n",
    "    m2c_df.append(pd.read_csv(\"data/sms-call-internet-mi-2013-11-{:02}.csv\".format(day), engine =\"python\", index_col=0))\n",
    "        \n",
    "m2c_df = pd.concat(m2c_df)"
   ]
  },
  {
   "cell_type": "code",
   "execution_count": null,
   "metadata": {},
   "outputs": [],
   "source": [
    "len(set(m2c_df['countrycode']))"
   ]
  },
  {
   "cell_type": "code",
   "execution_count": null,
   "metadata": {},
   "outputs": [],
   "source": [
    "df = pd.merge(m2p_df, m2c_df, on=['CellID'])"
   ]
  },
  {
   "cell_type": "code",
   "execution_count": null,
   "metadata": {},
   "outputs": [],
   "source": [
    "df"
   ]
  },
  {
   "cell_type": "code",
   "execution_count": null,
   "metadata": {
    "collapsed": true
   },
   "outputs": [],
   "source": [
    "\n",
    "from collections import Counter\n",
    "\n",
    "from bokeh.io import show\n",
    "from bokeh.models import (\n",
    "    ColumnDataSource,\n",
    "    HoverTool,\n",
    "    LogColorMapper\n",
    ")\n",
    "from bokeh.palettes import Viridis256 as palette\n",
    "from bokeh.plotting import figure\n",
    "from bokeh.layouts import column\n",
    "\n",
    "plots = []\n",
    "for day in range(3,4):\n",
    "    \n",
    "    # Load data\n",
    "    all_data = pd.read_csv(\"data/mi-to-provinces-2013-11-{:02}.csv\".format(day), engine =\"python\", index_col=0)\n",
    "    \n",
    "    for hour in range(0, 8):\n",
    "        data = all_data.loc['2013-11-{:02} {:02}:00:00'.format(day, hour)]\n",
    "\n",
    "        calls_per_cell = data['CellID'].values\n",
    "        calls_per_cell = Counter(calls_per_cell)\n",
    "        print(day, hour, calls_per_cell.most_common(5))\n",
    "        calls_per_cell = dict(calls_per_cell)\n",
    "        \n",
    "        for key, value in calls_per_cell.items():\n",
    "            calls_per_cell[key] = value/100\n",
    "            \n",
    "        lon = [[coors[0] for coors in cell[\"geometry\"][\"coordinates\"][0]] for cell in grid_json['features']]\n",
    "        lat = [[coors[1] for coors in cell[\"geometry\"][\"coordinates\"][0]] for cell in grid_json['features']]\n",
    "        names = [cell[\"id\"] for cell in grid_json['features']]\n",
    "        calls = [calls_per_cell[cell[\"id\"]+1] if cell[\"id\"]+1 in calls_per_cell else 0 for cell in grid_json['features']]\n",
    "        calls[0] = 0.0\n",
    "        calls[-1] = 1.0\n",
    "\n",
    "    #     def print_stats(x, y):\n",
    "    #         x = np.asarray(x)\n",
    "    #         y = np.asarray(y)\n",
    "    #         print(y.max(), x.max())\n",
    "    #         print(y.min(), x.min())\n",
    "    #         print((y.min() + y.max()) / 2,  (x.min() + x.max()) / 2)\n",
    "    #     print_stats(lon, lat)\n",
    "\n",
    "        color_mapper = LogColorMapper(palette=palette)\n",
    "        TOOLS = \"pan,wheel_zoom,reset,hover,save\"\n",
    "\n",
    "        source = ColumnDataSource(data=dict(\n",
    "            lon=lon,\n",
    "            lat=lat,\n",
    "            names=names,\n",
    "            calls=calls,\n",
    "            center_lon=[np.mean(x) for x in lon],\n",
    "            center_lat=[np.mean(x) for x in lat],\n",
    "        ))\n",
    "\n",
    "        p = figure(\n",
    "            title=\"Italian Provinces by Number of Calls with Milan\", tools=TOOLS,\n",
    "            x_axis_location=None, y_axis_location=None\n",
    "        )\n",
    "        p.grid.grid_line_color = None\n",
    "\n",
    "        p.patches('lon', 'lat', source=source,\n",
    "                  fill_color={'field': 'calls', 'transform': color_mapper},\n",
    "                  fill_alpha=0.7, line_color=\"white\", line_width=0.5)\n",
    "\n",
    "        hover = p.select_one(HoverTool)\n",
    "        hover.point_policy = \"follow_mouse\"\n",
    "        hover.tooltips = [\n",
    "            (\"Name\", \"@names\"),\n",
    "            (\"Calls)\", \"@calls\"),\n",
    "            (\"(Lat, Lon)\", \"(@center_lat, @center_lon)\"),\n",
    "        ]\n",
    "        plots.append(p)"
   ]
  },
  {
   "cell_type": "code",
   "execution_count": null,
   "metadata": {
    "collapsed": true
   },
   "outputs": [],
   "source": [
    "show(column(*plots))"
   ]
  },
  {
   "cell_type": "code",
   "execution_count": null,
   "metadata": {
    "collapsed": true
   },
   "outputs": [],
   "source": [
    "all_data.describe()"
   ]
  },
  {
   "cell_type": "code",
   "execution_count": null,
   "metadata": {
    "collapsed": true
   },
   "outputs": [],
   "source": [
    "data = pd.read_csv(\"data/mi-to-provinces-2013-11-{:02}.csv\".format(day), engine =\"python\", index_col=0)\n",
    "\n",
    "calls_per_province = data['provinceName'].values\n",
    "calls_per_province = Counter(calls_per_province)\n",
    "\n",
    "print(calls_per_province.most_common(5))\n",
    "\n",
    "calls_per_province = dict(calls_per_province)\n",
    "\n",
    "for province in provinces_json['features']:\n",
    "    province = province[\"properties\"][\"PROVINCIA\"].upper()\n",
    "    if province not in calls_per_province:\n",
    "        \n",
    "        def replace_key(new_key, old_key):\n",
    "            calls_per_province[new_key] = calls_per_province[old_key]\n",
    "            del calls_per_province[old_key]\n",
    "            \n",
    "        replace_key(\"AOSTA\", \"VALLE D'AOSTA\")\n",
    "        replace_key(\"BOLZANO\", \"BOLZANO/BOZEN\")\n",
    "        replace_key(\"MASSA CARRARA\", \"MASSA-CARRARA\")\n",
    "        \n",
    "        if province not in calls_per_province:\n",
    "            raise ValueError('{} is not in province list!'.format(province))\n",
    "\n",
    "lon = [[coors[0] for coors in province[\"geometry\"][\"coordinates\"][0][0]] for province in provinces_json['features']]\n",
    "lat = [[coors[1] for coors in province[\"geometry\"][\"coordinates\"][0][0]] for province in provinces_json['features']]\n",
    "names = [province[\"properties\"][\"PROVINCIA\"] for province in provinces_json['features']]\n",
    "calls = [calls_per_province[province[\"properties\"][\"PROVINCIA\"].upper()] for province in provinces_json['features']]\n",
    "\n",
    "source = ColumnDataSource(data=dict(\n",
    "    lon=lon,\n",
    "    lat=lat,\n",
    "    names=names,\n",
    "    calls=calls,\n",
    "    center_lon=[np.mean(x) for x in lon],\n",
    "    center_lat=[np.mean(x) for x in lat],\n",
    "))\n",
    "\n",
    "p = figure(\n",
    "    title=\"Italian Provinces by Number of Calls with Milan\", tools=TOOLS,\n",
    "    x_axis_location=None, y_axis_location=None\n",
    ")\n",
    "p.grid.grid_line_color = None\n",
    "\n",
    "p.patches('lon', 'lat', source=source,\n",
    "          fill_color={'field': 'calls', 'transform': color_mapper},\n",
    "          fill_alpha=0.7, line_color=\"white\", line_width=0.5)\n",
    "\n",
    "hover = p.select_one(HoverTool)\n",
    "hover.point_policy = \"follow_mouse\"\n",
    "hover.tooltips = [\n",
    "    (\"Name\", \"@names\"),\n",
    "    (\"Calls)\", \"@calls\"),\n",
    "    (\"(Lat, Lon)\", \"(@center_lat, @center_lon)\"),\n",
    "]\n",
    "\n",
    "show(p)"
   ]
  },
  {
   "cell_type": "code",
   "execution_count": null,
   "metadata": {
    "collapsed": true
   },
   "outputs": [],
   "source": []
  },
  {
   "cell_type": "code",
   "execution_count": null,
   "metadata": {
    "collapsed": true
   },
   "outputs": [],
   "source": []
  }
 ],
 "metadata": {
  "kernelspec": {
   "display_name": "Python 3",
   "language": "python",
   "name": "python3"
  },
  "language_info": {
   "codemirror_mode": {
    "name": "ipython",
    "version": 3
   },
   "file_extension": ".py",
   "mimetype": "text/x-python",
   "name": "python",
   "nbconvert_exporter": "python",
   "pygments_lexer": "ipython3",
   "version": "3.6.3"
  }
 },
 "nbformat": 4,
 "nbformat_minor": 2
}
